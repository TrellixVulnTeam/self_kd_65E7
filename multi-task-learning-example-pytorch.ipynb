{
 "cells": [
  {
   "cell_type": "code",
   "execution_count": 1,
   "metadata": {
    "colab": {
     "base_uri": "https://localhost:8080/",
     "height": 34
    },
    "colab_type": "code",
    "id": "6BaMKLQvE8OO",
    "outputId": "d9037787-b981-4975-d670-1ab5df35d47c"
   },
   "outputs": [
    {
     "data": {
      "text/plain": [
       "<torch._C.Generator at 0x7f9f68673b58>"
      ]
     },
     "execution_count": 1,
     "metadata": {},
     "output_type": "execute_result"
    }
   ],
   "source": [
    "import torch\n",
    "import torch.nn as nn\n",
    "import torch.optim as optim\n",
    "import numpy as np\n",
    "np.random.seed(0)\n",
    "torch.manual_seed(0)"
   ]
  },
  {
   "cell_type": "code",
   "execution_count": 2,
   "metadata": {
    "colab": {},
    "colab_type": "code",
    "id": "tu9_J0xrIHhj"
   },
   "outputs": [],
   "source": [
    "N = 100\n",
    "nb_epoch = 2000\n",
    "batch_size = 20\n",
    "nb_features = 1024\n",
    "Q = 1\n",
    "nb_output = 2  # total number of output\n",
    "D1 = 1  # first output\n",
    "D2 = 1  # second output"
   ]
  },
  {
   "cell_type": "markdown",
   "metadata": {
    "colab_type": "text",
    "id": "ObaYZBVpyO3Z"
   },
   "source": [
    "# Evaluate on synthetic data"
   ]
  },
  {
   "cell_type": "code",
   "execution_count": 3,
   "metadata": {
    "colab": {},
    "colab_type": "code",
    "id": "aoKriQlrIM3A"
   },
   "outputs": [],
   "source": [
    "def gen_data(N):\n",
    "    X = np.random.randn(N, Q)\n",
    "    w1 = 2.\n",
    "    b1 = 8.\n",
    "    sigma1 = 1e1  # ground truth\n",
    "    Y1 = X.dot(w1) + b1 + sigma1 * np.random.randn(N, D1)\n",
    "    w2 = 3\n",
    "    b2 = 3.\n",
    "    sigma2 = 1e0  # ground truth\n",
    "    Y2 = X.dot(w2) + b2 + sigma2 * np.random.randn(N, D2)\n",
    "    return X, Y1, Y2"
   ]
  },
  {
   "cell_type": "code",
   "execution_count": 4,
   "metadata": {
    "colab": {
     "base_uri": "https://localhost:8080/",
     "height": 129
    },
    "colab_type": "code",
    "id": "Db4B3XIzIPi-",
    "outputId": "9ce79361-d020-4c16-e123-a5b51872f786"
   },
   "outputs": [
    {
     "data": {
      "image/png": "[encoded data removed]",
      "text/plain": [
       "<Figure size 216x108 with 1 Axes>"
      ]
     },
     "metadata": {
      "needs_background": "light"
     },
     "output_type": "display_data"
    }
   ],
   "source": [
    "import pylab\n",
    "%matplotlib inline\n",
    "\n",
    "X, Y1, Y2 = gen_data(N)\n",
    "pylab.figure(figsize=(3, 1.5))\n",
    "pylab.scatter(X[:, 0], Y1[:, 0])\n",
    "pylab.scatter(X[:, 0], Y2[:, 0])\n",
    "pylab.show()"
   ]
  },
  {
   "cell_type": "markdown",
   "metadata": {
    "colab_type": "text",
    "id": "_E7LhkkoyR72"
   },
   "source": [
    "# Example Model"
   ]
  },
  {
   "cell_type": "code",
   "execution_count": 5,
   "metadata": {
    "colab": {},
    "colab_type": "code",
    "id": "oFKJ9_mfIUlQ"
   },
   "outputs": [],
   "source": [
    "class Net(nn.Module):\n",
    "    def __init__(self, input_size, hidden_size, output1_size, output2_size):\n",
    "        super(Net, self).__init__()\n",
    "        self.fc1 = nn.Linear(input_size, hidden_size) \n",
    "        self.relu = nn.ReLU()\n",
    "        self.fc2 = nn.Linear(hidden_size, output1_size)\n",
    "        self.fc3 = nn.Linear(hidden_size, output2_size)\n",
    "    \n",
    "    def forward(self, x):\n",
    "        out = self.fc1(x)\n",
    "        out = self.relu(out)\n",
    "        out1 = self.fc2(out)\n",
    "        out2 = self.fc3(out)\n",
    "        return out1, out2"
   ]
  },
  {
   "cell_type": "code",
   "execution_count": 6,
   "metadata": {
    "colab": {},
    "colab_type": "code",
    "id": "r-UlDkdlK21o"
   },
   "outputs": [],
   "source": [
    "model = Net(Q, nb_features, D1, D2)"
   ]
  },
  {
   "cell_type": "markdown",
   "metadata": {
    "colab_type": "text",
    "id": "EyR5ree1yWDk"
   },
   "source": [
    "## Define task dependent log_variance"
   ]
  },
  {
   "cell_type": "code",
   "execution_count": 7,
   "metadata": {
    "colab": {},
    "colab_type": "code",
    "id": "ih0Ocq-NFuX2"
   },
   "outputs": [],
   "source": [
    "log_var_a = torch.zeros((1,), requires_grad=True)\n",
    "log_var_b = torch.zeros((1,), requires_grad=True)"
   ]
  },
  {
   "cell_type": "code",
   "execution_count": 8,
   "metadata": {
    "colab": {
     "base_uri": "https://localhost:8080/",
     "height": 34
    },
    "colab_type": "code",
    "id": "Q_aXEqn84eGR",
    "outputId": "b43872e7-3303-4123-9e28-f5ff9746cae6"
   },
   "outputs": [
    {
     "name": "stdout",
     "output_type": "stream",
     "text": [
      "[1.0, 1.0]\n"
     ]
    }
   ],
   "source": [
    "# Initialized standard deviations (ground truth is 10 and 1):\n",
    "std_1 = torch.exp(log_var_a)**0.5\n",
    "std_2 = torch.exp(log_var_b)**0.5\n",
    "print([std_1.item(), std_2.item()])"
   ]
  },
  {
   "cell_type": "code",
   "execution_count": 9,
   "metadata": {
    "colab": {},
    "colab_type": "code",
    "id": "mcKDv3htMqXJ"
   },
   "outputs": [],
   "source": [
    "# get all parameters (model parameters + task dependent log variances)\n",
    "params = ([p for p in model.parameters()] + [log_var_a] + [log_var_b])"
   ]
  },
  {
   "cell_type": "code",
   "execution_count": 10,
   "metadata": {
    "colab": {},
    "colab_type": "code",
    "id": "HfBN-qs2Q_Wj"
   },
   "outputs": [],
   "source": [
    "#optimizer = optim.SGD(params, lr=0.001, momentum=0.9)\n",
    "optimizer = optim.Adam(params)"
   ]
  },
  {
   "cell_type": "markdown",
   "metadata": {
    "colab_type": "text",
    "id": "MGPCPAXryqT9"
   },
   "source": [
    "## define loss criterion"
   ]
  },
  {
   "cell_type": "code",
   "execution_count": 11,
   "metadata": {
    "colab": {},
    "colab_type": "code",
    "id": "5rHlOTALGXug"
   },
   "outputs": [],
   "source": [
    "def criterion(y_pred, y_true, log_vars):\n",
    "    loss = 0\n",
    "    for i in range(len(y_pred)):\n",
    "        precision = torch.exp(-log_vars[i])\n",
    "        diff = (y_pred[i]-y_true[i])**2.\n",
    "        loss += torch.sum(precision * diff + log_vars[i], -1)\n",
    "    return torch.mean(loss)"
   ]
  },
  {
   "cell_type": "markdown",
   "metadata": {
    "colab_type": "text",
    "id": "9Mk7ma7my397"
   },
   "source": [
    "## Train the network"
   ]
  },
  {
   "cell_type": "code",
   "execution_count": 12,
   "metadata": {
    "colab": {},
    "colab_type": "code",
    "id": "_pQ3cDYGVtPv"
   },
   "outputs": [],
   "source": [
    "# convert data into torch from numpy array\n",
    "X = X.astype('float32')\n",
    "Y1 = Y1.astype('float32')\n",
    "Y2 = Y2.astype('float32')"
   ]
  },
  {
   "cell_type": "code",
   "execution_count": 13,
   "metadata": {
    "colab": {},
    "colab_type": "code",
    "id": "mFm-Jtkm2cGk"
   },
   "outputs": [],
   "source": [
    "def shuffle_data(X,Y1,Y2):\n",
    "    s = np.arange(X.shape[0])\n",
    "    np.random.shuffle(s)\n",
    "    return X[s], Y1[s], Y2[s]"
   ]
  },
  {
   "cell_type": "code",
   "execution_count": 17,
   "metadata": {},
   "outputs": [],
   "source": [
    "y_pred, y_true, log_vars = out, [target1, target2], [log_var_a, log_var_b]"
   ]
  },
  {
   "cell_type": "code",
   "execution_count": 18,
   "metadata": {},
   "outputs": [],
   "source": [
    "loss = 0\n",
    "for i in range(len(y_pred)):\n",
    "    precision = torch.exp(-log_vars[i])\n",
    "    diff = (y_pred[i]-y_true[i])**2.\n",
    "    loss += torch.sum(precision * diff + log_vars[i], -1)"
   ]
  },
  {
   "cell_type": "code",
   "execution_count": 43,
   "metadata": {},
   "outputs": [
    {
     "data": {
      "text/plain": [
       "tensor(5.8949, grad_fn=<MeanBackward0>)"
      ]
     },
     "execution_count": 43,
     "metadata": {},
     "output_type": "execute_result"
    }
   ],
   "source": [
    "(torch.exp(-log_vars[0])*(y_pred[0]-y_true[0])**2. + log_vars[0] + torch.exp(-log_vars[1])*(y_pred[1]-y_true[1])**2. + log_vars[1]).mean()"
   ]
  },
  {
   "cell_type": "code",
   "execution_count": 42,
   "metadata": {},
   "outputs": [
    {
     "data": {
      "text/plain": [
       "tensor(5.8949, grad_fn=<MeanBackward0>)"
      ]
     },
     "execution_count": 42,
     "metadata": {},
     "output_type": "execute_result"
    }
   ],
   "source": [
    "loss.mean()"
   ]
  },
  {
   "cell_type": "code",
   "execution_count": null,
   "metadata": {},
   "outputs": [],
   "source": []
  },
  {
   "cell_type": "code",
   "execution_count": null,
   "metadata": {},
   "outputs": [],
   "source": []
  },
  {
   "cell_type": "code",
   "execution_count": null,
   "metadata": {},
   "outputs": [],
   "source": []
  },
  {
   "cell_type": "code",
   "execution_count": 14,
   "metadata": {
    "colab": {},
    "colab_type": "code",
    "id": "2RJ0U_ss0uT1"
   },
   "outputs": [],
   "source": [
    "## Train Network\n",
    "loss_history = np.zeros(nb_epoch)\n",
    "\n",
    "for i in range(nb_epoch):\n",
    "\n",
    "    epoch_loss = 0\n",
    "    \n",
    "    X, Y1, Y2 = shuffle_data(X, Y1, Y2)\n",
    "    \n",
    "    for j in range(N//batch_size):\n",
    "        \n",
    "        optimizer.zero_grad()\n",
    "        \n",
    "        inp = torch.from_numpy(X[(j*batch_size):((j+1)*batch_size)])\n",
    "        target1 = torch.from_numpy(Y1[(j*batch_size):((j+1)*batch_size)])\n",
    "        target2 = torch.from_numpy(Y2[(j*batch_size):((j+1)*batch_size)])\n",
    "        \n",
    "        out = model(inp)\n",
    "        \n",
    "        loss = criterion(out, [target1, target2], [log_var_a, log_var_b])\n",
    "        \n",
    "        epoch_loss += loss.item()\n",
    "        \n",
    "        loss.backward()\n",
    "        \n",
    "        optimizer.step()\n",
    "   \n",
    "    loss_history[i] = epoch_loss * batch_size / N    "
   ]
  },
  {
   "cell_type": "code",
   "execution_count": 15,
   "metadata": {
    "colab": {
     "base_uri": "https://localhost:8080/",
     "height": 282
    },
    "colab_type": "code",
    "id": "ZoiJCMsb1BMt",
    "outputId": "270cbd11-8e7f-4426-acfa-3bf789a1fc8f"
   },
   "outputs": [
    {
     "data": {
      "text/plain": [
       "[<matplotlib.lines.Line2D at 0x7f9ee22042b0>]"
      ]
     },
     "execution_count": 15,
     "metadata": {},
     "output_type": "execute_result"
    },
    {
     "data": {
      "image/png": "[encoded data removed]",
      "text/plain": [
       "<Figure size 432x288 with 1 Axes>"
      ]
     },
     "metadata": {
      "needs_background": "light"
     },
     "output_type": "display_data"
    }
   ],
   "source": [
    "# plot loss history\n",
    "\n",
    "pylab.plot(loss_history)"
   ]
  },
  {
   "cell_type": "code",
   "execution_count": 16,
   "metadata": {
    "colab": {
     "base_uri": "https://localhost:8080/",
     "height": 34
    },
    "colab_type": "code",
    "id": "tudLOfJazx4X",
    "outputId": "9c9cbd93-433a-48ff-e049-22ccb0cdd861"
   },
   "outputs": [
    {
     "name": "stdout",
     "output_type": "stream",
     "text": [
      "[8.58749771118164, 0.9197799563407898]\n"
     ]
    }
   ],
   "source": [
    "# Found standard deviations (ground truth is 10 and 1):\n",
    "std_1 = torch.exp(log_var_a)**0.5\n",
    "std_2 = torch.exp(log_var_b)**0.5\n",
    "print([std_1.item(), std_2.item()])"
   ]
  },
  {
   "cell_type": "code",
   "execution_count": null,
   "metadata": {},
   "outputs": [],
   "source": []
  }
 ],
 "metadata": {
  "colab": {
   "collapsed_sections": [],
   "name": "multi-task-learning-example-pytorch.ipynb",
   "provenance": [],
   "version": "0.3.2"
  },
  "kernelspec": {
   "display_name": "torch1.7",
   "language": "python",
   "name": "torch17"
  },
  "language_info": {
   "codemirror_mode": {
    "name": "ipython",
    "version": 3
   },
   "file_extension": ".py",
   "mimetype": "text/x-python",
   "name": "python",
   "nbconvert_exporter": "python",
   "pygments_lexer": "ipython3",
   "version": "3.6.9"
  },
  "varInspector": {
   "cols": {
    "lenName": 16,
    "lenType": 16,
    "lenVar": 40
   },
   "kernels_config": {
    "python": {
     "delete_cmd_postfix": "",
     "delete_cmd_prefix": "del ",
     "library": "var_list.py",
     "varRefreshCmd": "print(var_dic_list())"
    },
    "r": {
     "delete_cmd_postfix": ") ",
     "delete_cmd_prefix": "rm(",
     "library": "var_list.r",
     "varRefreshCmd": "cat(var_dic_list()) "
    }
   },
   "types_to_exclude": [
    "module",
    "function",
    "builtin_function_or_method",
    "instance",
    "_Feature"
   ],
   "window_display": false
  }
 },
 "nbformat": 4,
 "nbformat_minor": 1
}
