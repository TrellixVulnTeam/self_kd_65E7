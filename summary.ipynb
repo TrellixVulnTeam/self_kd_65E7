{
 "cells": [
  {
   "cell_type": "code",
   "execution_count": 1,
   "metadata": {},
   "outputs": [],
   "source": [
    "# EPOCH[200/200]\tTime 154.408 (105.324)\tTest_Acc 76.7400 (70.3952)\tloss_total 1.1817 (2.5976)\tloss_ce 0.0038 (0.2590)\tloss_kl 0.4884 (1.7380)\tloss_mmd 7.3834 (7.7443)\tloss_kl_dropout 4.5113 (5.0257)"
   ]
  },
  {
   "cell_type": "code",
   "execution_count": 1,
   "metadata": {},
   "outputs": [],
   "source": [
    "import os\n",
    "import pandas as pd"
   ]
  },
  {
   "cell_type": "code",
   "execution_count": 2,
   "metadata": {},
   "outputs": [],
   "source": [
    "exp_list = os.listdir('saved_models/')"
   ]
  },
  {
   "cell_type": "code",
   "execution_count": 3,
   "metadata": {},
   "outputs": [
    {
     "output_type": "stream",
     "name": "stdout",
     "text": [
      "CUB200_BYOT_Dropout_byot_resnet18__p0.5_t3.0_alpha0.1_beta0.1_B32_seed42_detachTrue\nEPOCH[ 39/200]\tTime 94.763 (94.006)\tTest_Acc 40.3003 (19.5406)\tloss_total 3.4591 (4.9090)\tloss_ce 2.1408 (3.6029)\tloss_kl 11.0108 (12.8099)\tloss_mmd 7.4540 (3.2431)\tloss_kl_dropout 2.5278 (1.2078)\n\n"
     ]
    }
   ],
   "source": [
    "rows = []\n",
    "for exp in exp_list:\n",
    "    with open(os.path.join('saved_models/', exp, 'log.txt'), \"r\") as f:\n",
    "        lines = f.readlines()\n",
    "        try:\n",
    "            row={}\n",
    "            for i in range(1,16):\n",
    "                [k, v] = lines[i].split(':')\n",
    "                row[k] = v.rstrip(\"\\n\")\n",
    "            row['acc'] = float(lines[-1].split()[5])\n",
    "            row['cur_epoch'] = float(lines[-1].split()[0])\n",
    "\n",
    "            rows.append(row)\n",
    "        except:\n",
    "            print(exp)\n",
    "            print(lines[-1])\n",
    "\n",
    "df = pd.DataFrame(rows)"
   ]
  },
  {
   "cell_type": "code",
   "execution_count": 8,
   "metadata": {},
   "outputs": [
    {
     "output_type": "execute_result",
     "data": {
      "text/plain": [
       "['EPOCH[200/200]',\n",
       " 'Time',\n",
       " '79.433',\n",
       " '(97.188)',\n",
       " 'Test_Acc',\n",
       " '58.7332',\n",
       " '(48.2686)',\n",
       " 'loss_total',\n",
       " '0.4363',\n",
       " '(1.3426)',\n",
       " 'loss_ce',\n",
       " '0.3486',\n",
       " '(1.2377)',\n",
       " 'loss_kl',\n",
       " '0.8772',\n",
       " '(1.0484)',\n",
       " 'loss_kl_dropout',\n",
       " '24.8649',\n",
       " '(19.0890)']"
      ]
     },
     "metadata": {},
     "execution_count": 8
    }
   ],
   "source": [
    "lines[-1].split()"
   ]
  },
  {
   "cell_type": "code",
   "execution_count": 4,
   "metadata": {},
   "outputs": [],
   "source": [
    "df.to_csv('out.csv')"
   ]
  },
  {
   "cell_type": "code",
   "execution_count": 5,
   "metadata": {},
   "outputs": [
    {
     "output_type": "execute_result",
     "data": {
      "text/plain": [
       "                                            exp_name  gpu  num_workers  seed   \\\n",
       "0    CIFAR100_BYOT_Dropout_byot_resnet18_cifar__p0...    0            1    41   \n",
       "1    CIFAR100_BYOT_Dropout_byot_resnet18_cifar__p0...    0            1    42   \n",
       "2    CIFAR100_BYOT_Dropout_byot_resnet18_cifar__p0...    0            1    41   \n",
       "3    CIFAR100_BYOT_Dropout_byot_resnet18_cifar__p0...    0            1    42   \n",
       "4    CIFAR100_BYOT_Dropout_byot_resnet18_cifar__p0...    1            1    41   \n",
       "5    CIFAR100_BYOT_Dropout_byot_resnet18_cifar__p0...    2            1    41   \n",
       "6    CIFAR100_BYOT_Dropout_byot_resnet18_cifar__p0...    1            1    42   \n",
       "7    CIFAR100_BYOT_Dropout_byot_resnet18_cifar__p0...    2            1    42   \n",
       "8    CIFAR100_BYOT_Dropout_byot_resnet18_cifar__p0...    1            1    41   \n",
       "9    CIFAR100_BYOT_Dropout_byot_resnet18_cifar__p0...    2            1    41   \n",
       "10   CIFAR100_BYOT_Dropout_byot_resnet18_cifar__p0...    1            1    42   \n",
       "11   CIFAR100_BYOT_Dropout_byot_resnet18_cifar__p0...    2            1    42   \n",
       "12   CIFAR100_DML_Dropout_resnet18_cifar__p0.5_t3....    3            1    42   \n",
       "13   CIFAR100_DML_Dropout_resnet18_cifar__p0.5_t3....    3            1    41   \n",
       "14   CIFAR100_DML_Dropout_resnet18_cifar__p0.5_t3....    3            1    42   \n",
       "15   CIFAR100_DML_Dropout_resnet18_cifar__p0.5_t3....    4            1    41   \n",
       "16   CIFAR100_DML_Dropout_resnet18_cifar__p0.5_t3....    5            1    41   \n",
       "17   CIFAR100_DML_Dropout_resnet18_cifar__p0.5_t3....    4            1    42   \n",
       "18   CIFAR100_DML_Dropout_resnet18_cifar__p0.5_t3....    5            1    42   \n",
       "19   CIFAR100_DML_Dropout_resnet18_cifar__p0.5_t3....    5            1    41   \n",
       "20   CIFAR100_DML_Dropout_resnet18_cifar__p0.5_t3....    4            1    42   \n",
       "21   CIFAR100_DML_Dropout_resnet18_cifar__p0.5_t3....    5            1    42   \n",
       "22   CUB200_BYOT_Dropout_byot_resnet18__p0.5_t3.0_...    6            1    41   \n",
       "23   CUB200_BYOT_Dropout_byot_resnet18__p0.5_t3.0_...    6            1    42   \n",
       "24   CUB200_BYOT_Dropout_byot_resnet18__p0.5_t3.0_...    6            1    41   \n",
       "25   CUB200_BYOT_Dropout_byot_resnet18__p0.5_t3.0_...    6            1    42   \n",
       "26   CUB200_DML_Dropout_resnet18__p0.5_t3.0_alpha0...    1            1    42   \n",
       "27   CUB200_DML_Dropout_resnet18__p0.5_t3.0_alpha0...    2            1    41   \n",
       "28   CUB200_DML_Dropout_resnet18__p0.5_t3.0_alpha0...    3            1    41   \n",
       "29   CUB200_DML_Dropout_resnet18__p0.5_t3.0_alpha0...    2            1    42   \n",
       "30   CUB200_DML_Dropout_resnet18__p0.5_t3.0_alpha0...    3            1    42   \n",
       "31   CUB200_DML_Dropout_resnet18__p0.5_t3.0_alpha0...    2            1    41   \n",
       "32   CUB200_DML_Dropout_resnet18__p0.5_t3.0_alpha0...    3            1    41   \n",
       "33   CUB200_DML_Dropout_resnet18__p0.5_t3.0_alpha0...    2            1    42   \n",
       "34   CUB200_DML_Dropout_resnet18__p0.5_t3.0_alpha0...    3            1    42   \n",
       "35   CIFAR100_DML_Dropout_resnet18_cifar__p0.5_t3....    3            1    41   \n",
       "36   CIFAR100_DML_Dropout_resnet18_cifar__p0.5_t3....    4            1    41   \n",
       "37   CUB200_BYOT_Dropout_byot_resnet18__p0.5_t3.0_...    7            1    41   \n",
       "38   CUB200_DML_Dropout_resnet18__p0.5_t3.0_alpha0...    1            1    41   \n",
       "39   CUB200_BYOT_Dropout_byot_resnet18__p0.5_t3.0_...    0            1    41   \n",
       "40   CUB200_BYOT_Dropout_byot_resnet18__p0.5_t3.0_...    7            1    42   \n",
       "41   CUB200_BYOT_Dropout_byot_resnet18__p0.5_t3.0_...    7            1    41   \n",
       "42   CUB200_BYOT_Dropout_byot_resnet18__p0.5_t3.0_...    0            1    41   \n",
       "43   CUB200_BYOT_Dropout_byot_resnet18__p0.5_t3.0_...    7            1    42   \n",
       "44   CUB200_BYOT_Dropout_byot_resnet18__p0.5_t3.0_...    0            1    42   \n",
       "45   CUB200_DML_Dropout_resnet18__p0.5_t3.0_alpha0...    1            1    41   \n",
       "46   CUB200_DML_Dropout_resnet18__p0.5_t3.0_alpha0...    1            1    42   \n",
       "\n",
       "   resume    dataset         method              backbone  epochs   \\\n",
       "0            CIFAR100   BYOT_Dropout   byot_resnet18_cifar     200   \n",
       "1            CIFAR100   BYOT_Dropout   byot_resnet18_cifar     200   \n",
       "2            CIFAR100   BYOT_Dropout   byot_resnet18_cifar     200   \n",
       "3            CIFAR100   BYOT_Dropout   byot_resnet18_cifar     200   \n",
       "4            CIFAR100   BYOT_Dropout   byot_resnet18_cifar     200   \n",
       "5            CIFAR100   BYOT_Dropout   byot_resnet18_cifar     200   \n",
       "6            CIFAR100   BYOT_Dropout   byot_resnet18_cifar     200   \n",
       "7            CIFAR100   BYOT_Dropout   byot_resnet18_cifar     200   \n",
       "8            CIFAR100   BYOT_Dropout   byot_resnet18_cifar     200   \n",
       "9            CIFAR100   BYOT_Dropout   byot_resnet18_cifar     200   \n",
       "10           CIFAR100   BYOT_Dropout   byot_resnet18_cifar     200   \n",
       "11           CIFAR100   BYOT_Dropout   byot_resnet18_cifar     200   \n",
       "12           CIFAR100    DML_Dropout        resnet18_cifar     200   \n",
       "13           CIFAR100    DML_Dropout        resnet18_cifar     200   \n",
       "14           CIFAR100    DML_Dropout        resnet18_cifar     200   \n",
       "15           CIFAR100    DML_Dropout        resnet18_cifar     200   \n",
       "16           CIFAR100    DML_Dropout        resnet18_cifar     200   \n",
       "17           CIFAR100    DML_Dropout        resnet18_cifar     200   \n",
       "18           CIFAR100    DML_Dropout        resnet18_cifar     200   \n",
       "19           CIFAR100    DML_Dropout        resnet18_cifar     200   \n",
       "20           CIFAR100    DML_Dropout        resnet18_cifar     200   \n",
       "21           CIFAR100    DML_Dropout        resnet18_cifar     200   \n",
       "22             CUB200   BYOT_Dropout         byot_resnet18     200   \n",
       "23             CUB200   BYOT_Dropout         byot_resnet18     200   \n",
       "24             CUB200   BYOT_Dropout         byot_resnet18     200   \n",
       "25             CUB200   BYOT_Dropout         byot_resnet18     200   \n",
       "26             CUB200    DML_Dropout              resnet18     200   \n",
       "27             CUB200    DML_Dropout              resnet18     200   \n",
       "28             CUB200    DML_Dropout              resnet18     200   \n",
       "29             CUB200    DML_Dropout              resnet18     200   \n",
       "30             CUB200    DML_Dropout              resnet18     200   \n",
       "31             CUB200    DML_Dropout              resnet18     200   \n",
       "32             CUB200    DML_Dropout              resnet18     200   \n",
       "33             CUB200    DML_Dropout              resnet18     200   \n",
       "34             CUB200    DML_Dropout              resnet18     200   \n",
       "35           CIFAR100    DML_Dropout        resnet18_cifar     200   \n",
       "36           CIFAR100    DML_Dropout        resnet18_cifar     200   \n",
       "37             CUB200   BYOT_Dropout         byot_resnet18     200   \n",
       "38             CUB200    DML_Dropout              resnet18     200   \n",
       "39             CUB200   BYOT_Dropout         byot_resnet18     200   \n",
       "40             CUB200   BYOT_Dropout         byot_resnet18     200   \n",
       "41             CUB200   BYOT_Dropout         byot_resnet18     200   \n",
       "42             CUB200   BYOT_Dropout         byot_resnet18     200   \n",
       "43             CUB200   BYOT_Dropout         byot_resnet18     200   \n",
       "44             CUB200   BYOT_Dropout         byot_resnet18     200   \n",
       "45             CUB200    DML_Dropout              resnet18     200   \n",
       "46             CUB200    DML_Dropout              resnet18     200   \n",
       "\n",
       "   batch_size     t     p  alpha  beta  detach       acc  \n",
       "0          128   3.0   0.5    0.0   0.1   False  77.1800  \n",
       "1          128   3.0   0.5    0.0   0.1   False  77.1900  \n",
       "2          128   3.0   0.5    0.0   1.0   False  76.8700  \n",
       "3          128   3.0   0.5    0.0   1.0   False  76.6000  \n",
       "4          128   3.0   0.5    0.1   0.1   False  77.6800  \n",
       "5          128   3.0   0.5    0.1   0.1    True  78.3900  \n",
       "6          128   3.0   0.5    0.1   0.1   False  77.7300  \n",
       "7          128   3.0   0.5    0.1   0.1    True  77.8700  \n",
       "8          128   3.0   0.5    0.1   1.0   False  77.3300  \n",
       "9          128   3.0   0.5    0.1   1.0    True  77.7100  \n",
       "10         128   3.0   0.5    0.1   1.0   False  77.8400  \n",
       "11         128   3.0   0.5    0.1   1.0    True  77.2200  \n",
       "12         128   3.0   0.5    0.0   0.1   False  77.3200  \n",
       "13         128   3.0   0.5    0.0   1.0   False  79.0500  \n",
       "14         128   3.0   0.5    0.0   1.0   False  78.7600  \n",
       "15         128   3.0   0.5    0.1   0.1   False  78.0500  \n",
       "16         128   3.0   0.5    0.1   0.1    True  77.6900  \n",
       "17         128   3.0   0.5    0.1   0.1   False  77.7200  \n",
       "18         128   3.0   0.5    0.1   0.1    True  77.4300  \n",
       "19         128   3.0   0.5    0.1   1.0    True  78.6200  \n",
       "20         128   3.0   0.5    0.1   1.0   False  78.9000  \n",
       "21         128   3.0   0.5    0.1   1.0    True  78.7700  \n",
       "22          32   3.0   0.5    0.0   0.1   False  60.8561  \n",
       "23          32   3.0   0.5    0.0   0.1   False  60.9424  \n",
       "24          32   3.0   0.5    0.0   1.0   False  63.0307  \n",
       "25          32   3.0   0.5    0.0   1.0   False  62.5302  \n",
       "26          32   3.0   0.5    0.0   1.0   False  61.3738  \n",
       "27          32   3.0   0.5    0.1   0.1   False  65.3952  \n",
       "28          32   3.0   0.5    0.1   0.1    True  63.7729  \n",
       "29          32   3.0   0.5    0.1   0.1   False  65.5506  \n",
       "30          32   3.0   0.5    0.1   0.1    True  63.8246  \n",
       "31          32   3.0   0.5    0.1   1.0   False  66.1546  \n",
       "32          32   3.0   0.5    0.1   1.0    True  65.1536  \n",
       "33          32   3.0   0.5    0.1   1.0   False  65.2399  \n",
       "34          32   3.0   0.5    0.1   1.0    True  64.7049  \n",
       "35         128   3.0   0.5    0.0   0.1   False  77.8400  \n",
       "36         128   3.0   0.5    0.1   1.0   False  78.6100  \n",
       "37          32   3.0   0.5    0.1   0.1   False  68.5537  \n",
       "38          32   3.0   0.5    0.0   1.0   False  61.6672  \n",
       "39          32   3.0   0.5    0.1   0.1    True  66.3445  \n",
       "40          32   3.0   0.5    0.1   0.1   False  68.0014  \n",
       "41          32   3.0   0.5    0.1   1.0   False  72.5060  \n",
       "42          32   3.0   0.5    0.1   1.0    True  68.6918  \n",
       "43          32   3.0   0.5    0.1   1.0   False  72.0573  \n",
       "44          32   3.0   0.5    0.1   1.0    True  68.7435  \n",
       "45          32   3.0   0.5    0.0   0.1   False  58.9230  \n",
       "46          32   3.0   0.5    0.0   0.1   False  58.7332  "
      ],
      "text/html": "<div>\n<style scoped>\n    .dataframe tbody tr th:only-of-type {\n        vertical-align: middle;\n    }\n\n    .dataframe tbody tr th {\n        vertical-align: top;\n    }\n\n    .dataframe thead th {\n        text-align: right;\n    }\n</style>\n<table border=\"1\" class=\"dataframe\">\n  <thead>\n    <tr style=\"text-align: right;\">\n      <th></th>\n      <th>exp_name</th>\n      <th>gpu</th>\n      <th>num_workers</th>\n      <th>seed</th>\n      <th>resume</th>\n      <th>dataset</th>\n      <th>method</th>\n      <th>backbone</th>\n      <th>epochs</th>\n      <th>batch_size</th>\n      <th>t</th>\n      <th>p</th>\n      <th>alpha</th>\n      <th>beta</th>\n      <th>detach</th>\n      <th>acc</th>\n    </tr>\n  </thead>\n  <tbody>\n    <tr>\n      <th>0</th>\n      <td>CIFAR100_BYOT_Dropout_byot_resnet18_cifar__p0...</td>\n      <td>0</td>\n      <td>1</td>\n      <td>41</td>\n      <td></td>\n      <td>CIFAR100</td>\n      <td>BYOT_Dropout</td>\n      <td>byot_resnet18_cifar</td>\n      <td>200</td>\n      <td>128</td>\n      <td>3.0</td>\n      <td>0.5</td>\n      <td>0.0</td>\n      <td>0.1</td>\n      <td>False</td>\n      <td>77.1800</td>\n    </tr>\n    <tr>\n      <th>1</th>\n      <td>CIFAR100_BYOT_Dropout_byot_resnet18_cifar__p0...</td>\n      <td>0</td>\n      <td>1</td>\n      <td>42</td>\n      <td></td>\n      <td>CIFAR100</td>\n      <td>BYOT_Dropout</td>\n      <td>byot_resnet18_cifar</td>\n      <td>200</td>\n      <td>128</td>\n      <td>3.0</td>\n      <td>0.5</td>\n      <td>0.0</td>\n      <td>0.1</td>\n      <td>False</td>\n      <td>77.1900</td>\n    </tr>\n    <tr>\n      <th>2</th>\n      <td>CIFAR100_BYOT_Dropout_byot_resnet18_cifar__p0...</td>\n      <td>0</td>\n      <td>1</td>\n      <td>41</td>\n      <td></td>\n      <td>CIFAR100</td>\n      <td>BYOT_Dropout</td>\n      <td>byot_resnet18_cifar</td>\n      <td>200</td>\n      <td>128</td>\n      <td>3.0</td>\n      <td>0.5</td>\n      <td>0.0</td>\n      <td>1.0</td>\n      <td>False</td>\n      <td>76.8700</td>\n    </tr>\n    <tr>\n      <th>3</th>\n      <td>CIFAR100_BYOT_Dropout_byot_resnet18_cifar__p0...</td>\n      <td>0</td>\n      <td>1</td>\n      <td>42</td>\n      <td></td>\n      <td>CIFAR100</td>\n      <td>BYOT_Dropout</td>\n      <td>byot_resnet18_cifar</td>\n      <td>200</td>\n      <td>128</td>\n      <td>3.0</td>\n      <td>0.5</td>\n      <td>0.0</td>\n      <td>1.0</td>\n      <td>False</td>\n      <td>76.6000</td>\n    </tr>\n    <tr>\n      <th>4</th>\n      <td>CIFAR100_BYOT_Dropout_byot_resnet18_cifar__p0...</td>\n      <td>1</td>\n      <td>1</td>\n      <td>41</td>\n      <td></td>\n      <td>CIFAR100</td>\n      <td>BYOT_Dropout</td>\n      <td>byot_resnet18_cifar</td>\n      <td>200</td>\n      <td>128</td>\n      <td>3.0</td>\n      <td>0.5</td>\n      <td>0.1</td>\n      <td>0.1</td>\n      <td>False</td>\n      <td>77.6800</td>\n    </tr>\n    <tr>\n      <th>5</th>\n      <td>CIFAR100_BYOT_Dropout_byot_resnet18_cifar__p0...</td>\n      <td>2</td>\n      <td>1</td>\n      <td>41</td>\n      <td></td>\n      <td>CIFAR100</td>\n      <td>BYOT_Dropout</td>\n      <td>byot_resnet18_cifar</td>\n      <td>200</td>\n      <td>128</td>\n      <td>3.0</td>\n      <td>0.5</td>\n      <td>0.1</td>\n      <td>0.1</td>\n      <td>True</td>\n      <td>78.3900</td>\n    </tr>\n    <tr>\n      <th>6</th>\n      <td>CIFAR100_BYOT_Dropout_byot_resnet18_cifar__p0...</td>\n      <td>1</td>\n      <td>1</td>\n      <td>42</td>\n      <td></td>\n      <td>CIFAR100</td>\n      <td>BYOT_Dropout</td>\n      <td>byot_resnet18_cifar</td>\n      <td>200</td>\n      <td>128</td>\n      <td>3.0</td>\n      <td>0.5</td>\n      <td>0.1</td>\n      <td>0.1</td>\n      <td>False</td>\n      <td>77.7300</td>\n    </tr>\n    <tr>\n      <th>7</th>\n      <td>CIFAR100_BYOT_Dropout_byot_resnet18_cifar__p0...</td>\n      <td>2</td>\n      <td>1</td>\n      <td>42</td>\n      <td></td>\n      <td>CIFAR100</td>\n      <td>BYOT_Dropout</td>\n      <td>byot_resnet18_cifar</td>\n      <td>200</td>\n      <td>128</td>\n      <td>3.0</td>\n      <td>0.5</td>\n      <td>0.1</td>\n      <td>0.1</td>\n      <td>True</td>\n      <td>77.8700</td>\n    </tr>\n    <tr>\n      <th>8</th>\n      <td>CIFAR100_BYOT_Dropout_byot_resnet18_cifar__p0...</td>\n      <td>1</td>\n      <td>1</td>\n      <td>41</td>\n      <td></td>\n      <td>CIFAR100</td>\n      <td>BYOT_Dropout</td>\n      <td>byot_resnet18_cifar</td>\n      <td>200</td>\n      <td>128</td>\n      <td>3.0</td>\n      <td>0.5</td>\n      <td>0.1</td>\n      <td>1.0</td>\n      <td>False</td>\n      <td>77.3300</td>\n    </tr>\n    <tr>\n      <th>9</th>\n      <td>CIFAR100_BYOT_Dropout_byot_resnet18_cifar__p0...</td>\n      <td>2</td>\n      <td>1</td>\n      <td>41</td>\n      <td></td>\n      <td>CIFAR100</td>\n      <td>BYOT_Dropout</td>\n      <td>byot_resnet18_cifar</td>\n      <td>200</td>\n      <td>128</td>\n      <td>3.0</td>\n      <td>0.5</td>\n      <td>0.1</td>\n      <td>1.0</td>\n      <td>True</td>\n      <td>77.7100</td>\n    </tr>\n    <tr>\n      <th>10</th>\n      <td>CIFAR100_BYOT_Dropout_byot_resnet18_cifar__p0...</td>\n      <td>1</td>\n      <td>1</td>\n      <td>42</td>\n      <td></td>\n      <td>CIFAR100</td>\n      <td>BYOT_Dropout</td>\n      <td>byot_resnet18_cifar</td>\n      <td>200</td>\n      <td>128</td>\n      <td>3.0</td>\n      <td>0.5</td>\n      <td>0.1</td>\n      <td>1.0</td>\n      <td>False</td>\n      <td>77.8400</td>\n    </tr>\n    <tr>\n      <th>11</th>\n      <td>CIFAR100_BYOT_Dropout_byot_resnet18_cifar__p0...</td>\n      <td>2</td>\n      <td>1</td>\n      <td>42</td>\n      <td></td>\n      <td>CIFAR100</td>\n      <td>BYOT_Dropout</td>\n      <td>byot_resnet18_cifar</td>\n      <td>200</td>\n      <td>128</td>\n      <td>3.0</td>\n      <td>0.5</td>\n      <td>0.1</td>\n      <td>1.0</td>\n      <td>True</td>\n      <td>77.2200</td>\n    </tr>\n    <tr>\n      <th>12</th>\n      <td>CIFAR100_DML_Dropout_resnet18_cifar__p0.5_t3....</td>\n      <td>3</td>\n      <td>1</td>\n      <td>42</td>\n      <td></td>\n      <td>CIFAR100</td>\n      <td>DML_Dropout</td>\n      <td>resnet18_cifar</td>\n      <td>200</td>\n      <td>128</td>\n      <td>3.0</td>\n      <td>0.5</td>\n      <td>0.0</td>\n      <td>0.1</td>\n      <td>False</td>\n      <td>77.3200</td>\n    </tr>\n    <tr>\n      <th>13</th>\n      <td>CIFAR100_DML_Dropout_resnet18_cifar__p0.5_t3....</td>\n      <td>3</td>\n      <td>1</td>\n      <td>41</td>\n      <td></td>\n      <td>CIFAR100</td>\n      <td>DML_Dropout</td>\n      <td>resnet18_cifar</td>\n      <td>200</td>\n      <td>128</td>\n      <td>3.0</td>\n      <td>0.5</td>\n      <td>0.0</td>\n      <td>1.0</td>\n      <td>False</td>\n      <td>79.0500</td>\n    </tr>\n    <tr>\n      <th>14</th>\n      <td>CIFAR100_DML_Dropout_resnet18_cifar__p0.5_t3....</td>\n      <td>3</td>\n      <td>1</td>\n      <td>42</td>\n      <td></td>\n      <td>CIFAR100</td>\n      <td>DML_Dropout</td>\n      <td>resnet18_cifar</td>\n      <td>200</td>\n      <td>128</td>\n      <td>3.0</td>\n      <td>0.5</td>\n      <td>0.0</td>\n      <td>1.0</td>\n      <td>False</td>\n      <td>78.7600</td>\n    </tr>\n    <tr>\n      <th>15</th>\n      <td>CIFAR100_DML_Dropout_resnet18_cifar__p0.5_t3....</td>\n      <td>4</td>\n      <td>1</td>\n      <td>41</td>\n      <td></td>\n      <td>CIFAR100</td>\n      <td>DML_Dropout</td>\n      <td>resnet18_cifar</td>\n      <td>200</td>\n      <td>128</td>\n      <td>3.0</td>\n      <td>0.5</td>\n      <td>0.1</td>\n      <td>0.1</td>\n      <td>False</td>\n      <td>78.0500</td>\n    </tr>\n    <tr>\n      <th>16</th>\n      <td>CIFAR100_DML_Dropout_resnet18_cifar__p0.5_t3....</td>\n      <td>5</td>\n      <td>1</td>\n      <td>41</td>\n      <td></td>\n      <td>CIFAR100</td>\n      <td>DML_Dropout</td>\n      <td>resnet18_cifar</td>\n      <td>200</td>\n      <td>128</td>\n      <td>3.0</td>\n      <td>0.5</td>\n      <td>0.1</td>\n      <td>0.1</td>\n      <td>True</td>\n      <td>77.6900</td>\n    </tr>\n    <tr>\n      <th>17</th>\n      <td>CIFAR100_DML_Dropout_resnet18_cifar__p0.5_t3....</td>\n      <td>4</td>\n      <td>1</td>\n      <td>42</td>\n      <td></td>\n      <td>CIFAR100</td>\n      <td>DML_Dropout</td>\n      <td>resnet18_cifar</td>\n      <td>200</td>\n      <td>128</td>\n      <td>3.0</td>\n      <td>0.5</td>\n      <td>0.1</td>\n      <td>0.1</td>\n      <td>False</td>\n      <td>77.7200</td>\n    </tr>\n    <tr>\n      <th>18</th>\n      <td>CIFAR100_DML_Dropout_resnet18_cifar__p0.5_t3....</td>\n      <td>5</td>\n      <td>1</td>\n      <td>42</td>\n      <td></td>\n      <td>CIFAR100</td>\n      <td>DML_Dropout</td>\n      <td>resnet18_cifar</td>\n      <td>200</td>\n      <td>128</td>\n      <td>3.0</td>\n      <td>0.5</td>\n      <td>0.1</td>\n      <td>0.1</td>\n      <td>True</td>\n      <td>77.4300</td>\n    </tr>\n    <tr>\n      <th>19</th>\n      <td>CIFAR100_DML_Dropout_resnet18_cifar__p0.5_t3....</td>\n      <td>5</td>\n      <td>1</td>\n      <td>41</td>\n      <td></td>\n      <td>CIFAR100</td>\n      <td>DML_Dropout</td>\n      <td>resnet18_cifar</td>\n      <td>200</td>\n      <td>128</td>\n      <td>3.0</td>\n      <td>0.5</td>\n      <td>0.1</td>\n      <td>1.0</td>\n      <td>True</td>\n      <td>78.6200</td>\n    </tr>\n    <tr>\n      <th>20</th>\n      <td>CIFAR100_DML_Dropout_resnet18_cifar__p0.5_t3....</td>\n      <td>4</td>\n      <td>1</td>\n      <td>42</td>\n      <td></td>\n      <td>CIFAR100</td>\n      <td>DML_Dropout</td>\n      <td>resnet18_cifar</td>\n      <td>200</td>\n      <td>128</td>\n      <td>3.0</td>\n      <td>0.5</td>\n      <td>0.1</td>\n      <td>1.0</td>\n      <td>False</td>\n      <td>78.9000</td>\n    </tr>\n    <tr>\n      <th>21</th>\n      <td>CIFAR100_DML_Dropout_resnet18_cifar__p0.5_t3....</td>\n      <td>5</td>\n      <td>1</td>\n      <td>42</td>\n      <td></td>\n      <td>CIFAR100</td>\n      <td>DML_Dropout</td>\n      <td>resnet18_cifar</td>\n      <td>200</td>\n      <td>128</td>\n      <td>3.0</td>\n      <td>0.5</td>\n      <td>0.1</td>\n      <td>1.0</td>\n      <td>True</td>\n      <td>78.7700</td>\n    </tr>\n    <tr>\n      <th>22</th>\n      <td>CUB200_BYOT_Dropout_byot_resnet18__p0.5_t3.0_...</td>\n      <td>6</td>\n      <td>1</td>\n      <td>41</td>\n      <td></td>\n      <td>CUB200</td>\n      <td>BYOT_Dropout</td>\n      <td>byot_resnet18</td>\n      <td>200</td>\n      <td>32</td>\n      <td>3.0</td>\n      <td>0.5</td>\n      <td>0.0</td>\n      <td>0.1</td>\n      <td>False</td>\n      <td>60.8561</td>\n    </tr>\n    <tr>\n      <th>23</th>\n      <td>CUB200_BYOT_Dropout_byot_resnet18__p0.5_t3.0_...</td>\n      <td>6</td>\n      <td>1</td>\n      <td>42</td>\n      <td></td>\n      <td>CUB200</td>\n      <td>BYOT_Dropout</td>\n      <td>byot_resnet18</td>\n      <td>200</td>\n      <td>32</td>\n      <td>3.0</td>\n      <td>0.5</td>\n      <td>0.0</td>\n      <td>0.1</td>\n      <td>False</td>\n      <td>60.9424</td>\n    </tr>\n    <tr>\n      <th>24</th>\n      <td>CUB200_BYOT_Dropout_byot_resnet18__p0.5_t3.0_...</td>\n      <td>6</td>\n      <td>1</td>\n      <td>41</td>\n      <td></td>\n      <td>CUB200</td>\n      <td>BYOT_Dropout</td>\n      <td>byot_resnet18</td>\n      <td>200</td>\n      <td>32</td>\n      <td>3.0</td>\n      <td>0.5</td>\n      <td>0.0</td>\n      <td>1.0</td>\n      <td>False</td>\n      <td>63.0307</td>\n    </tr>\n    <tr>\n      <th>25</th>\n      <td>CUB200_BYOT_Dropout_byot_resnet18__p0.5_t3.0_...</td>\n      <td>6</td>\n      <td>1</td>\n      <td>42</td>\n      <td></td>\n      <td>CUB200</td>\n      <td>BYOT_Dropout</td>\n      <td>byot_resnet18</td>\n      <td>200</td>\n      <td>32</td>\n      <td>3.0</td>\n      <td>0.5</td>\n      <td>0.0</td>\n      <td>1.0</td>\n      <td>False</td>\n      <td>62.5302</td>\n    </tr>\n    <tr>\n      <th>26</th>\n      <td>CUB200_DML_Dropout_resnet18__p0.5_t3.0_alpha0...</td>\n      <td>1</td>\n      <td>1</td>\n      <td>42</td>\n      <td></td>\n      <td>CUB200</td>\n      <td>DML_Dropout</td>\n      <td>resnet18</td>\n      <td>200</td>\n      <td>32</td>\n      <td>3.0</td>\n      <td>0.5</td>\n      <td>0.0</td>\n      <td>1.0</td>\n      <td>False</td>\n      <td>61.3738</td>\n    </tr>\n    <tr>\n      <th>27</th>\n      <td>CUB200_DML_Dropout_resnet18__p0.5_t3.0_alpha0...</td>\n      <td>2</td>\n      <td>1</td>\n      <td>41</td>\n      <td></td>\n      <td>CUB200</td>\n      <td>DML_Dropout</td>\n      <td>resnet18</td>\n      <td>200</td>\n      <td>32</td>\n      <td>3.0</td>\n      <td>0.5</td>\n      <td>0.1</td>\n      <td>0.1</td>\n      <td>False</td>\n      <td>65.3952</td>\n    </tr>\n    <tr>\n      <th>28</th>\n      <td>CUB200_DML_Dropout_resnet18__p0.5_t3.0_alpha0...</td>\n      <td>3</td>\n      <td>1</td>\n      <td>41</td>\n      <td></td>\n      <td>CUB200</td>\n      <td>DML_Dropout</td>\n      <td>resnet18</td>\n      <td>200</td>\n      <td>32</td>\n      <td>3.0</td>\n      <td>0.5</td>\n      <td>0.1</td>\n      <td>0.1</td>\n      <td>True</td>\n      <td>63.7729</td>\n    </tr>\n    <tr>\n      <th>29</th>\n      <td>CUB200_DML_Dropout_resnet18__p0.5_t3.0_alpha0...</td>\n      <td>2</td>\n      <td>1</td>\n      <td>42</td>\n      <td></td>\n      <td>CUB200</td>\n      <td>DML_Dropout</td>\n      <td>resnet18</td>\n      <td>200</td>\n      <td>32</td>\n      <td>3.0</td>\n      <td>0.5</td>\n      <td>0.1</td>\n      <td>0.1</td>\n      <td>False</td>\n      <td>65.5506</td>\n    </tr>\n    <tr>\n      <th>30</th>\n      <td>CUB200_DML_Dropout_resnet18__p0.5_t3.0_alpha0...</td>\n      <td>3</td>\n      <td>1</td>\n      <td>42</td>\n      <td></td>\n      <td>CUB200</td>\n      <td>DML_Dropout</td>\n      <td>resnet18</td>\n      <td>200</td>\n      <td>32</td>\n      <td>3.0</td>\n      <td>0.5</td>\n      <td>0.1</td>\n      <td>0.1</td>\n      <td>True</td>\n      <td>63.8246</td>\n    </tr>\n    <tr>\n      <th>31</th>\n      <td>CUB200_DML_Dropout_resnet18__p0.5_t3.0_alpha0...</td>\n      <td>2</td>\n      <td>1</td>\n      <td>41</td>\n      <td></td>\n      <td>CUB200</td>\n      <td>DML_Dropout</td>\n      <td>resnet18</td>\n      <td>200</td>\n      <td>32</td>\n      <td>3.0</td>\n      <td>0.5</td>\n      <td>0.1</td>\n      <td>1.0</td>\n      <td>False</td>\n      <td>66.1546</td>\n    </tr>\n    <tr>\n      <th>32</th>\n      <td>CUB200_DML_Dropout_resnet18__p0.5_t3.0_alpha0...</td>\n      <td>3</td>\n      <td>1</td>\n      <td>41</td>\n      <td></td>\n      <td>CUB200</td>\n      <td>DML_Dropout</td>\n      <td>resnet18</td>\n      <td>200</td>\n      <td>32</td>\n      <td>3.0</td>\n      <td>0.5</td>\n      <td>0.1</td>\n      <td>1.0</td>\n      <td>True</td>\n      <td>65.1536</td>\n    </tr>\n    <tr>\n      <th>33</th>\n      <td>CUB200_DML_Dropout_resnet18__p0.5_t3.0_alpha0...</td>\n      <td>2</td>\n      <td>1</td>\n      <td>42</td>\n      <td></td>\n      <td>CUB200</td>\n      <td>DML_Dropout</td>\n      <td>resnet18</td>\n      <td>200</td>\n      <td>32</td>\n      <td>3.0</td>\n      <td>0.5</td>\n      <td>0.1</td>\n      <td>1.0</td>\n      <td>False</td>\n      <td>65.2399</td>\n    </tr>\n    <tr>\n      <th>34</th>\n      <td>CUB200_DML_Dropout_resnet18__p0.5_t3.0_alpha0...</td>\n      <td>3</td>\n      <td>1</td>\n      <td>42</td>\n      <td></td>\n      <td>CUB200</td>\n      <td>DML_Dropout</td>\n      <td>resnet18</td>\n      <td>200</td>\n      <td>32</td>\n      <td>3.0</td>\n      <td>0.5</td>\n      <td>0.1</td>\n      <td>1.0</td>\n      <td>True</td>\n      <td>64.7049</td>\n    </tr>\n    <tr>\n      <th>35</th>\n      <td>CIFAR100_DML_Dropout_resnet18_cifar__p0.5_t3....</td>\n      <td>3</td>\n      <td>1</td>\n      <td>41</td>\n      <td></td>\n      <td>CIFAR100</td>\n      <td>DML_Dropout</td>\n      <td>resnet18_cifar</td>\n      <td>200</td>\n      <td>128</td>\n      <td>3.0</td>\n      <td>0.5</td>\n      <td>0.0</td>\n      <td>0.1</td>\n      <td>False</td>\n      <td>77.8400</td>\n    </tr>\n    <tr>\n      <th>36</th>\n      <td>CIFAR100_DML_Dropout_resnet18_cifar__p0.5_t3....</td>\n      <td>4</td>\n      <td>1</td>\n      <td>41</td>\n      <td></td>\n      <td>CIFAR100</td>\n      <td>DML_Dropout</td>\n      <td>resnet18_cifar</td>\n      <td>200</td>\n      <td>128</td>\n      <td>3.0</td>\n      <td>0.5</td>\n      <td>0.1</td>\n      <td>1.0</td>\n      <td>False</td>\n      <td>78.6100</td>\n    </tr>\n    <tr>\n      <th>37</th>\n      <td>CUB200_BYOT_Dropout_byot_resnet18__p0.5_t3.0_...</td>\n      <td>7</td>\n      <td>1</td>\n      <td>41</td>\n      <td></td>\n      <td>CUB200</td>\n      <td>BYOT_Dropout</td>\n      <td>byot_resnet18</td>\n      <td>200</td>\n      <td>32</td>\n      <td>3.0</td>\n      <td>0.5</td>\n      <td>0.1</td>\n      <td>0.1</td>\n      <td>False</td>\n      <td>68.5537</td>\n    </tr>\n    <tr>\n      <th>38</th>\n      <td>CUB200_DML_Dropout_resnet18__p0.5_t3.0_alpha0...</td>\n      <td>1</td>\n      <td>1</td>\n      <td>41</td>\n      <td></td>\n      <td>CUB200</td>\n      <td>DML_Dropout</td>\n      <td>resnet18</td>\n      <td>200</td>\n      <td>32</td>\n      <td>3.0</td>\n      <td>0.5</td>\n      <td>0.0</td>\n      <td>1.0</td>\n      <td>False</td>\n      <td>61.6672</td>\n    </tr>\n    <tr>\n      <th>39</th>\n      <td>CUB200_BYOT_Dropout_byot_resnet18__p0.5_t3.0_...</td>\n      <td>0</td>\n      <td>1</td>\n      <td>41</td>\n      <td></td>\n      <td>CUB200</td>\n      <td>BYOT_Dropout</td>\n      <td>byot_resnet18</td>\n      <td>200</td>\n      <td>32</td>\n      <td>3.0</td>\n      <td>0.5</td>\n      <td>0.1</td>\n      <td>0.1</td>\n      <td>True</td>\n      <td>66.3445</td>\n    </tr>\n    <tr>\n      <th>40</th>\n      <td>CUB200_BYOT_Dropout_byot_resnet18__p0.5_t3.0_...</td>\n      <td>7</td>\n      <td>1</td>\n      <td>42</td>\n      <td></td>\n      <td>CUB200</td>\n      <td>BYOT_Dropout</td>\n      <td>byot_resnet18</td>\n      <td>200</td>\n      <td>32</td>\n      <td>3.0</td>\n      <td>0.5</td>\n      <td>0.1</td>\n      <td>0.1</td>\n      <td>False</td>\n      <td>68.0014</td>\n    </tr>\n    <tr>\n      <th>41</th>\n      <td>CUB200_BYOT_Dropout_byot_resnet18__p0.5_t3.0_...</td>\n      <td>7</td>\n      <td>1</td>\n      <td>41</td>\n      <td></td>\n      <td>CUB200</td>\n      <td>BYOT_Dropout</td>\n      <td>byot_resnet18</td>\n      <td>200</td>\n      <td>32</td>\n      <td>3.0</td>\n      <td>0.5</td>\n      <td>0.1</td>\n      <td>1.0</td>\n      <td>False</td>\n      <td>72.5060</td>\n    </tr>\n    <tr>\n      <th>42</th>\n      <td>CUB200_BYOT_Dropout_byot_resnet18__p0.5_t3.0_...</td>\n      <td>0</td>\n      <td>1</td>\n      <td>41</td>\n      <td></td>\n      <td>CUB200</td>\n      <td>BYOT_Dropout</td>\n      <td>byot_resnet18</td>\n      <td>200</td>\n      <td>32</td>\n      <td>3.0</td>\n      <td>0.5</td>\n      <td>0.1</td>\n      <td>1.0</td>\n      <td>True</td>\n      <td>68.6918</td>\n    </tr>\n    <tr>\n      <th>43</th>\n      <td>CUB200_BYOT_Dropout_byot_resnet18__p0.5_t3.0_...</td>\n      <td>7</td>\n      <td>1</td>\n      <td>42</td>\n      <td></td>\n      <td>CUB200</td>\n      <td>BYOT_Dropout</td>\n      <td>byot_resnet18</td>\n      <td>200</td>\n      <td>32</td>\n      <td>3.0</td>\n      <td>0.5</td>\n      <td>0.1</td>\n      <td>1.0</td>\n      <td>False</td>\n      <td>72.0573</td>\n    </tr>\n    <tr>\n      <th>44</th>\n      <td>CUB200_BYOT_Dropout_byot_resnet18__p0.5_t3.0_...</td>\n      <td>0</td>\n      <td>1</td>\n      <td>42</td>\n      <td></td>\n      <td>CUB200</td>\n      <td>BYOT_Dropout</td>\n      <td>byot_resnet18</td>\n      <td>200</td>\n      <td>32</td>\n      <td>3.0</td>\n      <td>0.5</td>\n      <td>0.1</td>\n      <td>1.0</td>\n      <td>True</td>\n      <td>68.7435</td>\n    </tr>\n    <tr>\n      <th>45</th>\n      <td>CUB200_DML_Dropout_resnet18__p0.5_t3.0_alpha0...</td>\n      <td>1</td>\n      <td>1</td>\n      <td>41</td>\n      <td></td>\n      <td>CUB200</td>\n      <td>DML_Dropout</td>\n      <td>resnet18</td>\n      <td>200</td>\n      <td>32</td>\n      <td>3.0</td>\n      <td>0.5</td>\n      <td>0.0</td>\n      <td>0.1</td>\n      <td>False</td>\n      <td>58.9230</td>\n    </tr>\n    <tr>\n      <th>46</th>\n      <td>CUB200_DML_Dropout_resnet18__p0.5_t3.0_alpha0...</td>\n      <td>1</td>\n      <td>1</td>\n      <td>42</td>\n      <td></td>\n      <td>CUB200</td>\n      <td>DML_Dropout</td>\n      <td>resnet18</td>\n      <td>200</td>\n      <td>32</td>\n      <td>3.0</td>\n      <td>0.5</td>\n      <td>0.0</td>\n      <td>0.1</td>\n      <td>False</td>\n      <td>58.7332</td>\n    </tr>\n  </tbody>\n</table>\n</div>"
     },
     "metadata": {},
     "execution_count": 5
    }
   ],
   "source": [
    "df"
   ]
  },
  {
   "cell_type": "code",
   "execution_count": null,
   "metadata": {},
   "outputs": [],
   "source": [
    "ㄹ"
   ]
  },
  {
   "cell_type": "code",
   "execution_count": null,
   "metadata": {},
   "outputs": [],
   "source": []
  }
 ],
 "metadata": {
  "kernelspec": {
   "name": "python379jvsc74a57bd0072dff7db5480526b66e054c419181bc7e12319705b7f08459ac29801f620fd2",
   "display_name": "Python 3.7.9 64-bit",
   "language": "python"
  },
  "language_info": {
   "codemirror_mode": {
    "name": "ipython",
    "version": 3
   },
   "file_extension": ".py",
   "mimetype": "text/x-python",
   "name": "python",
   "nbconvert_exporter": "python",
   "pygments_lexer": "ipython3",
   "version": "3.7.9-final"
  }
 },
 "nbformat": 4,
 "nbformat_minor": 4
}