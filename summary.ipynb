{
 "cells": [
  {
   "cell_type": "code",
   "execution_count": 1,
   "metadata": {},
   "outputs": [],
   "source": [
    "# EPOCH[200/200]\tTime 154.408 (105.324)\tTest_Acc 76.7400 (70.3952)\tloss_total 1.1817 (2.5976)\tloss_ce 0.0038 (0.2590)\tloss_kl 0.4884 (1.7380)\tloss_mmd 7.3834 (7.7443)\tloss_kl_dropout 4.5113 (5.0257)"
   ]
  },
  {
   "cell_type": "code",
   "execution_count": 1,
   "metadata": {},
   "outputs": [],
   "source": [
    "import os\n",
    "import pandas as pd"
   ]
  },
  {
   "cell_type": "code",
   "execution_count": 2,
   "metadata": {},
   "outputs": [],
   "source": [
    "exp_list = os.listdir('saved_models/')"
   ]
  },
  {
   "cell_type": "code",
   "execution_count": 3,
   "metadata": {},
   "outputs": [],
   "source": [
    "rows = []\n",
    "for exp in exp_list:\n",
    "    with open(os.path.join('saved_models/', exp, 'log.txt'), \"r\") as f:\n",
    "        lines = f.readlines()\n",
    "        try:\n",
    "            st = 0\n",
    "            end = 0\n",
    "            for idx, line in enumerate(lines):\n",
    "                if 'exp_name :' in line:\n",
    "                    st = idx\n",
    "                elif 'batch_size :' in line:\n",
    "                    end = idx\n",
    "                    break\n",
    "            row={}\n",
    "            for i in range(st, end):\n",
    "                line = lines[i]\n",
    "                if any(c in line for c in ['hyper_param', 'num_workers', 'prefetch']): continue\n",
    "                [k, v] = line.split(' : ')\n",
    "                row[k] = v.rstrip(\"\\n\")\n",
    "            if '#' in lines[-1]:\n",
    "                last_line = lines[-2]\n",
    "            else:\n",
    "                last_line = lines[-1]\n",
    "            row['acc'] = float(last_line.split()[5])\n",
    "            row['cur_epoch'] = int(last_line.split('EPOCH[')[-1].split('/')[0])\n",
    "            \n",
    "            rows.append(row)\n",
    "        \n",
    "        except:\n",
    "            print(exp)\n",
    "            print(lines[-1])\n",
    "\n",
    "df = pd.DataFrame(rows)"
   ]
  },
  {
   "cell_type": "code",
   "execution_count": 4,
   "metadata": {},
   "outputs": [],
   "source": [
    "df.to_csv(\"summary.csv\")"
   ]
  },
  {
   "cell_type": "code",
   "execution_count": 5,
   "metadata": {},
   "outputs": [
    {
     "name": "stdout",
     "output_type": "stream",
     "text": [
      "method\n",
      "BYOT                      94.470000\n",
      "DDGSD                     94.303333\n",
      "CS_KD                     94.110000\n",
      "SD_Dropout_uncertainty    94.110000\n",
      "SD_Dropout                94.103333\n",
      "BaseMethod                94.073333\n",
      "Name: acc, dtype: float64\n",
      "method\n",
      "BYOT                      3\n",
      "BaseMethod                3\n",
      "CS_KD                     3\n",
      "DDGSD                     3\n",
      "SD_Dropout                3\n",
      "SD_Dropout_uncertainty    3\n",
      "Name: acc, dtype: int64\n"
     ]
    }
   ],
   "source": [
    "selected = df[df['dataset'] == 'CIFAR10']\n",
    "# selected = df[df['dataset'] == 'CIFAR100']\n",
    "# selected = df[df['dataset'] == 'CUB200']\n",
    "# selected = df[df['dataset'] == 'DOG']\n",
    "show = pd.DataFrame()\n",
    "print(selected['acc'].groupby(selected['method']).mean().sort_values(ascending=False))\n",
    "print(selected['acc'].groupby(selected['method']).size())"
   ]
  },
  {
   "cell_type": "code",
   "execution_count": null,
   "metadata": {},
   "outputs": [],
   "source": []
  },
  {
   "cell_type": "code",
   "execution_count": null,
   "metadata": {},
   "outputs": [],
   "source": []
  },
  {
   "cell_type": "code",
   "execution_count": null,
   "metadata": {},
   "outputs": [],
   "source": []
  },
  {
   "cell_type": "code",
   "execution_count": null,
   "metadata": {},
   "outputs": [],
   "source": []
  },
  {
   "cell_type": "code",
   "execution_count": 121,
   "metadata": {},
   "outputs": [
    {
     "ename": "ValueError",
     "evalue": "could not convert string to float: 'Test_Acc'",
     "output_type": "error",
     "traceback": [
      "\u001b[0;31m---------------------------------------------------------------------------\u001b[0m",
      "\u001b[0;31mValueError\u001b[0m                                Traceback (most recent call last)",
      "\u001b[0;32m<ipython-input-121-d23dcc269cad>\u001b[0m in \u001b[0;36m<module>\u001b[0;34m\u001b[0m\n\u001b[1;32m     20\u001b[0m     \u001b[0;32melse\u001b[0m\u001b[0;34m:\u001b[0m\u001b[0;34m\u001b[0m\u001b[0;34m\u001b[0m\u001b[0m\n\u001b[1;32m     21\u001b[0m         \u001b[0mlast_line\u001b[0m \u001b[0;34m=\u001b[0m \u001b[0mlines\u001b[0m\u001b[0;34m[\u001b[0m\u001b[0;34m-\u001b[0m\u001b[0;36m1\u001b[0m\u001b[0;34m]\u001b[0m\u001b[0;34m\u001b[0m\u001b[0;34m\u001b[0m\u001b[0m\n\u001b[0;32m---> 22\u001b[0;31m     \u001b[0mrow\u001b[0m\u001b[0;34m[\u001b[0m\u001b[0;34m'acc'\u001b[0m\u001b[0;34m]\u001b[0m \u001b[0;34m=\u001b[0m \u001b[0mfloat\u001b[0m\u001b[0;34m(\u001b[0m\u001b[0mlast_line\u001b[0m\u001b[0;34m.\u001b[0m\u001b[0msplit\u001b[0m\u001b[0;34m(\u001b[0m\u001b[0;34m)\u001b[0m\u001b[0;34m[\u001b[0m\u001b[0;36m5\u001b[0m\u001b[0;34m]\u001b[0m\u001b[0;34m)\u001b[0m\u001b[0;34m\u001b[0m\u001b[0;34m\u001b[0m\u001b[0m\n\u001b[0m\u001b[1;32m     23\u001b[0m     \u001b[0mrow\u001b[0m\u001b[0;34m[\u001b[0m\u001b[0;34m'cur_epoch'\u001b[0m\u001b[0;34m]\u001b[0m \u001b[0;34m=\u001b[0m \u001b[0mint\u001b[0m\u001b[0;34m(\u001b[0m\u001b[0mlast_line\u001b[0m\u001b[0;34m.\u001b[0m\u001b[0msplit\u001b[0m\u001b[0;34m(\u001b[0m\u001b[0;34m'EPOCH['\u001b[0m\u001b[0;34m)\u001b[0m\u001b[0;34m[\u001b[0m\u001b[0;34m-\u001b[0m\u001b[0;36m1\u001b[0m\u001b[0;34m]\u001b[0m\u001b[0;34m.\u001b[0m\u001b[0msplit\u001b[0m\u001b[0;34m(\u001b[0m\u001b[0;34m'/'\u001b[0m\u001b[0;34m)\u001b[0m\u001b[0;34m[\u001b[0m\u001b[0;36m0\u001b[0m\u001b[0;34m]\u001b[0m\u001b[0;34m)\u001b[0m\u001b[0;34m\u001b[0m\u001b[0;34m\u001b[0m\u001b[0m\n\u001b[1;32m     24\u001b[0m \u001b[0;34m\u001b[0m\u001b[0m\n",
      "\u001b[0;31mValueError\u001b[0m: could not convert string to float: 'Test_Acc'"
     ]
    }
   ],
   "source": [
    "exp = \"Exp_Short_CIFAR10_BaseMethod_B128_sgd_LR0.1_WD0.0001_SEED12\"\n",
    "with open(os.path.join('saved_models/', exp, 'log.txt'), \"r\") as f:\n",
    "    lines = f.readlines()\n",
    "    st = 0\n",
    "    end = 0\n",
    "    for idx, line in enumerate(lines):\n",
    "        if 'exp_name :' in line:\n",
    "            st = idx\n",
    "        elif 'batch_size :' in line:\n",
    "            end = idx\n",
    "            break\n",
    "    row={}\n",
    "    for i in range(st, end):\n",
    "        line = lines[i]\n",
    "        if any(c in line for c in ['hyper_param', 'num_workers']): continue\n",
    "        [k, v] = line.split(' : ')\n",
    "        row[k] = v.rstrip(\"\\n\")\n",
    "    if '#' in lines[-1]:\n",
    "        last_line = lines[-2]\n",
    "    else:\n",
    "        last_line = lines[-1]\n",
    "    row['acc'] = float(last_line.split()[5])\n",
    "    row['cur_epoch'] = int(last_line.split('EPOCH[')[-1].split('/')[0])\n",
    "\n",
    "    rows.append(row)"
   ]
  },
  {
   "cell_type": "code",
   "execution_count": null,
   "metadata": {},
   "outputs": [],
   "source": []
  },
  {
   "cell_type": "code",
   "execution_count": null,
   "metadata": {},
   "outputs": [],
   "source": []
  }
 ],
 "metadata": {
  "kernelspec": {
   "display_name": "torch1.7",
   "language": "python",
   "name": "torch17"
  },
  "language_info": {
   "codemirror_mode": {
    "name": "ipython",
    "version": 3
   },
   "file_extension": ".py",
   "mimetype": "text/x-python",
   "name": "python",
   "nbconvert_exporter": "python",
   "pygments_lexer": "ipython3",
   "version": "3.6.9"
  },
  "varInspector": {
   "cols": {
    "lenName": 16,
    "lenType": 16,
    "lenVar": 40
   },
   "kernels_config": {
    "python": {
     "delete_cmd_postfix": "",
     "delete_cmd_prefix": "del ",
     "library": "var_list.py",
     "varRefreshCmd": "print(var_dic_list())"
    },
    "r": {
     "delete_cmd_postfix": ") ",
     "delete_cmd_prefix": "rm(",
     "library": "var_list.r",
     "varRefreshCmd": "cat(var_dic_list()) "
    }
   },
   "types_to_exclude": [
    "module",
    "function",
    "builtin_function_or_method",
    "instance",
    "_Feature"
   ],
   "window_display": false
  }
 },
 "nbformat": 4,
 "nbformat_minor": 4
}
